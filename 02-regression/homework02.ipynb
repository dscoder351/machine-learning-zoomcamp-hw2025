{
 "cells": [
  {
   "cell_type": "markdown",
   "id": "d029eae7-a04b-4870-83c0-00e7e9831568",
   "metadata": {},
   "source": [
    "### Preparing the dataset"
   ]
  },
  {
   "cell_type": "code",
   "execution_count": 1,
   "id": "289839f2-18ae-4d6b-a52d-b73280e08615",
   "metadata": {},
   "outputs": [],
   "source": [
    "#importing libraries\n",
    "import pandas as pd\n",
    "import numpy as np"
   ]
  },
  {
   "cell_type": "code",
   "execution_count": 2,
   "id": "2dc60208-abc3-400a-90fe-602ac593651c",
   "metadata": {},
   "outputs": [
    {
     "data": {
      "text/html": [
       "<div>\n",
       "<style scoped>\n",
       "    .dataframe tbody tr th:only-of-type {\n",
       "        vertical-align: middle;\n",
       "    }\n",
       "\n",
       "    .dataframe tbody tr th {\n",
       "        vertical-align: top;\n",
       "    }\n",
       "\n",
       "    .dataframe thead th {\n",
       "        text-align: right;\n",
       "    }\n",
       "</style>\n",
       "<table border=\"1\" class=\"dataframe\">\n",
       "  <thead>\n",
       "    <tr style=\"text-align: right;\">\n",
       "      <th></th>\n",
       "      <th>engine_displacement</th>\n",
       "      <th>num_cylinders</th>\n",
       "      <th>horsepower</th>\n",
       "      <th>vehicle_weight</th>\n",
       "      <th>acceleration</th>\n",
       "      <th>model_year</th>\n",
       "      <th>origin</th>\n",
       "      <th>fuel_type</th>\n",
       "      <th>drivetrain</th>\n",
       "      <th>num_doors</th>\n",
       "      <th>fuel_efficiency_mpg</th>\n",
       "    </tr>\n",
       "  </thead>\n",
       "  <tbody>\n",
       "    <tr>\n",
       "      <th>0</th>\n",
       "      <td>170</td>\n",
       "      <td>3.0</td>\n",
       "      <td>159.0</td>\n",
       "      <td>3413.433759</td>\n",
       "      <td>17.7</td>\n",
       "      <td>2003</td>\n",
       "      <td>Europe</td>\n",
       "      <td>Gasoline</td>\n",
       "      <td>All-wheel drive</td>\n",
       "      <td>0.0</td>\n",
       "      <td>13.231729</td>\n",
       "    </tr>\n",
       "    <tr>\n",
       "      <th>1</th>\n",
       "      <td>130</td>\n",
       "      <td>5.0</td>\n",
       "      <td>97.0</td>\n",
       "      <td>3149.664934</td>\n",
       "      <td>17.8</td>\n",
       "      <td>2007</td>\n",
       "      <td>USA</td>\n",
       "      <td>Gasoline</td>\n",
       "      <td>Front-wheel drive</td>\n",
       "      <td>0.0</td>\n",
       "      <td>13.688217</td>\n",
       "    </tr>\n",
       "    <tr>\n",
       "      <th>2</th>\n",
       "      <td>170</td>\n",
       "      <td>NaN</td>\n",
       "      <td>78.0</td>\n",
       "      <td>3079.038997</td>\n",
       "      <td>15.1</td>\n",
       "      <td>2018</td>\n",
       "      <td>Europe</td>\n",
       "      <td>Gasoline</td>\n",
       "      <td>Front-wheel drive</td>\n",
       "      <td>0.0</td>\n",
       "      <td>14.246341</td>\n",
       "    </tr>\n",
       "    <tr>\n",
       "      <th>3</th>\n",
       "      <td>220</td>\n",
       "      <td>4.0</td>\n",
       "      <td>NaN</td>\n",
       "      <td>2542.392402</td>\n",
       "      <td>20.2</td>\n",
       "      <td>2009</td>\n",
       "      <td>USA</td>\n",
       "      <td>Diesel</td>\n",
       "      <td>All-wheel drive</td>\n",
       "      <td>2.0</td>\n",
       "      <td>16.912736</td>\n",
       "    </tr>\n",
       "    <tr>\n",
       "      <th>4</th>\n",
       "      <td>210</td>\n",
       "      <td>1.0</td>\n",
       "      <td>140.0</td>\n",
       "      <td>3460.870990</td>\n",
       "      <td>14.4</td>\n",
       "      <td>2009</td>\n",
       "      <td>Europe</td>\n",
       "      <td>Gasoline</td>\n",
       "      <td>All-wheel drive</td>\n",
       "      <td>2.0</td>\n",
       "      <td>12.488369</td>\n",
       "    </tr>\n",
       "    <tr>\n",
       "      <th>...</th>\n",
       "      <td>...</td>\n",
       "      <td>...</td>\n",
       "      <td>...</td>\n",
       "      <td>...</td>\n",
       "      <td>...</td>\n",
       "      <td>...</td>\n",
       "      <td>...</td>\n",
       "      <td>...</td>\n",
       "      <td>...</td>\n",
       "      <td>...</td>\n",
       "      <td>...</td>\n",
       "    </tr>\n",
       "    <tr>\n",
       "      <th>9699</th>\n",
       "      <td>140</td>\n",
       "      <td>5.0</td>\n",
       "      <td>164.0</td>\n",
       "      <td>2981.107371</td>\n",
       "      <td>17.3</td>\n",
       "      <td>2013</td>\n",
       "      <td>Europe</td>\n",
       "      <td>Diesel</td>\n",
       "      <td>Front-wheel drive</td>\n",
       "      <td>NaN</td>\n",
       "      <td>15.101802</td>\n",
       "    </tr>\n",
       "    <tr>\n",
       "      <th>9700</th>\n",
       "      <td>180</td>\n",
       "      <td>NaN</td>\n",
       "      <td>154.0</td>\n",
       "      <td>2439.525729</td>\n",
       "      <td>15.0</td>\n",
       "      <td>2004</td>\n",
       "      <td>USA</td>\n",
       "      <td>Gasoline</td>\n",
       "      <td>All-wheel drive</td>\n",
       "      <td>0.0</td>\n",
       "      <td>17.962326</td>\n",
       "    </tr>\n",
       "    <tr>\n",
       "      <th>9701</th>\n",
       "      <td>220</td>\n",
       "      <td>2.0</td>\n",
       "      <td>138.0</td>\n",
       "      <td>2583.471318</td>\n",
       "      <td>15.1</td>\n",
       "      <td>2008</td>\n",
       "      <td>USA</td>\n",
       "      <td>Diesel</td>\n",
       "      <td>All-wheel drive</td>\n",
       "      <td>-1.0</td>\n",
       "      <td>17.186587</td>\n",
       "    </tr>\n",
       "    <tr>\n",
       "      <th>9702</th>\n",
       "      <td>230</td>\n",
       "      <td>4.0</td>\n",
       "      <td>177.0</td>\n",
       "      <td>2905.527390</td>\n",
       "      <td>19.4</td>\n",
       "      <td>2011</td>\n",
       "      <td>USA</td>\n",
       "      <td>Diesel</td>\n",
       "      <td>Front-wheel drive</td>\n",
       "      <td>1.0</td>\n",
       "      <td>15.331551</td>\n",
       "    </tr>\n",
       "    <tr>\n",
       "      <th>9703</th>\n",
       "      <td>270</td>\n",
       "      <td>3.0</td>\n",
       "      <td>140.0</td>\n",
       "      <td>2908.043477</td>\n",
       "      <td>14.7</td>\n",
       "      <td>2005</td>\n",
       "      <td>Asia</td>\n",
       "      <td>Diesel</td>\n",
       "      <td>All-wheel drive</td>\n",
       "      <td>-1.0</td>\n",
       "      <td>14.884467</td>\n",
       "    </tr>\n",
       "  </tbody>\n",
       "</table>\n",
       "<p>9704 rows × 11 columns</p>\n",
       "</div>"
      ],
      "text/plain": [
       "      engine_displacement  num_cylinders  horsepower  vehicle_weight  \\\n",
       "0                     170            3.0       159.0     3413.433759   \n",
       "1                     130            5.0        97.0     3149.664934   \n",
       "2                     170            NaN        78.0     3079.038997   \n",
       "3                     220            4.0         NaN     2542.392402   \n",
       "4                     210            1.0       140.0     3460.870990   \n",
       "...                   ...            ...         ...             ...   \n",
       "9699                  140            5.0       164.0     2981.107371   \n",
       "9700                  180            NaN       154.0     2439.525729   \n",
       "9701                  220            2.0       138.0     2583.471318   \n",
       "9702                  230            4.0       177.0     2905.527390   \n",
       "9703                  270            3.0       140.0     2908.043477   \n",
       "\n",
       "      acceleration  model_year  origin fuel_type         drivetrain  \\\n",
       "0             17.7        2003  Europe  Gasoline    All-wheel drive   \n",
       "1             17.8        2007     USA  Gasoline  Front-wheel drive   \n",
       "2             15.1        2018  Europe  Gasoline  Front-wheel drive   \n",
       "3             20.2        2009     USA    Diesel    All-wheel drive   \n",
       "4             14.4        2009  Europe  Gasoline    All-wheel drive   \n",
       "...            ...         ...     ...       ...                ...   \n",
       "9699          17.3        2013  Europe    Diesel  Front-wheel drive   \n",
       "9700          15.0        2004     USA  Gasoline    All-wheel drive   \n",
       "9701          15.1        2008     USA    Diesel    All-wheel drive   \n",
       "9702          19.4        2011     USA    Diesel  Front-wheel drive   \n",
       "9703          14.7        2005    Asia    Diesel    All-wheel drive   \n",
       "\n",
       "      num_doors  fuel_efficiency_mpg  \n",
       "0           0.0            13.231729  \n",
       "1           0.0            13.688217  \n",
       "2           0.0            14.246341  \n",
       "3           2.0            16.912736  \n",
       "4           2.0            12.488369  \n",
       "...         ...                  ...  \n",
       "9699        NaN            15.101802  \n",
       "9700        0.0            17.962326  \n",
       "9701       -1.0            17.186587  \n",
       "9702        1.0            15.331551  \n",
       "9703       -1.0            14.884467  \n",
       "\n",
       "[9704 rows x 11 columns]"
      ]
     },
     "execution_count": 2,
     "metadata": {},
     "output_type": "execute_result"
    }
   ],
   "source": [
    "#downloading the dataset into csv files\n",
    "df = pd.read_csv(\"https://raw.githubusercontent.com/alexeygrigorev/datasets/master/car_fuel_efficiency.csv\")\n",
    "df"
   ]
  },
  {
   "cell_type": "code",
   "execution_count": 3,
   "id": "6f250497-19d9-4738-8e90-cc53e7bc4dad",
   "metadata": {},
   "outputs": [
    {
     "data": {
      "text/plain": [
       "engine_displacement      int64\n",
       "num_cylinders          float64\n",
       "horsepower             float64\n",
       "vehicle_weight         float64\n",
       "acceleration           float64\n",
       "model_year               int64\n",
       "origin                  object\n",
       "fuel_type               object\n",
       "drivetrain              object\n",
       "num_doors              float64\n",
       "fuel_efficiency_mpg    float64\n",
       "dtype: object"
      ]
     },
     "execution_count": 3,
     "metadata": {},
     "output_type": "execute_result"
    }
   ],
   "source": [
    "# exploring the data types\n",
    "df.dtypes"
   ]
  },
  {
   "cell_type": "code",
   "execution_count": 4,
   "id": "ae32c2a7-7294-4c8a-a517-b4faaa4a56e3",
   "metadata": {},
   "outputs": [
    {
     "data": {
      "text/html": [
       "<div>\n",
       "<style scoped>\n",
       "    .dataframe tbody tr th:only-of-type {\n",
       "        vertical-align: middle;\n",
       "    }\n",
       "\n",
       "    .dataframe tbody tr th {\n",
       "        vertical-align: top;\n",
       "    }\n",
       "\n",
       "    .dataframe thead th {\n",
       "        text-align: right;\n",
       "    }\n",
       "</style>\n",
       "<table border=\"1\" class=\"dataframe\">\n",
       "  <thead>\n",
       "    <tr style=\"text-align: right;\">\n",
       "      <th></th>\n",
       "      <th>engine_displacement</th>\n",
       "      <th>horsepower</th>\n",
       "      <th>vehicle_weight</th>\n",
       "      <th>model_year</th>\n",
       "      <th>fuel_efficiency_mpg</th>\n",
       "    </tr>\n",
       "  </thead>\n",
       "  <tbody>\n",
       "    <tr>\n",
       "      <th>0</th>\n",
       "      <td>170</td>\n",
       "      <td>159.0</td>\n",
       "      <td>3413.433759</td>\n",
       "      <td>2003</td>\n",
       "      <td>13.231729</td>\n",
       "    </tr>\n",
       "    <tr>\n",
       "      <th>1</th>\n",
       "      <td>130</td>\n",
       "      <td>97.0</td>\n",
       "      <td>3149.664934</td>\n",
       "      <td>2007</td>\n",
       "      <td>13.688217</td>\n",
       "    </tr>\n",
       "    <tr>\n",
       "      <th>2</th>\n",
       "      <td>170</td>\n",
       "      <td>78.0</td>\n",
       "      <td>3079.038997</td>\n",
       "      <td>2018</td>\n",
       "      <td>14.246341</td>\n",
       "    </tr>\n",
       "    <tr>\n",
       "      <th>3</th>\n",
       "      <td>220</td>\n",
       "      <td>NaN</td>\n",
       "      <td>2542.392402</td>\n",
       "      <td>2009</td>\n",
       "      <td>16.912736</td>\n",
       "    </tr>\n",
       "    <tr>\n",
       "      <th>4</th>\n",
       "      <td>210</td>\n",
       "      <td>140.0</td>\n",
       "      <td>3460.870990</td>\n",
       "      <td>2009</td>\n",
       "      <td>12.488369</td>\n",
       "    </tr>\n",
       "    <tr>\n",
       "      <th>...</th>\n",
       "      <td>...</td>\n",
       "      <td>...</td>\n",
       "      <td>...</td>\n",
       "      <td>...</td>\n",
       "      <td>...</td>\n",
       "    </tr>\n",
       "    <tr>\n",
       "      <th>9699</th>\n",
       "      <td>140</td>\n",
       "      <td>164.0</td>\n",
       "      <td>2981.107371</td>\n",
       "      <td>2013</td>\n",
       "      <td>15.101802</td>\n",
       "    </tr>\n",
       "    <tr>\n",
       "      <th>9700</th>\n",
       "      <td>180</td>\n",
       "      <td>154.0</td>\n",
       "      <td>2439.525729</td>\n",
       "      <td>2004</td>\n",
       "      <td>17.962326</td>\n",
       "    </tr>\n",
       "    <tr>\n",
       "      <th>9701</th>\n",
       "      <td>220</td>\n",
       "      <td>138.0</td>\n",
       "      <td>2583.471318</td>\n",
       "      <td>2008</td>\n",
       "      <td>17.186587</td>\n",
       "    </tr>\n",
       "    <tr>\n",
       "      <th>9702</th>\n",
       "      <td>230</td>\n",
       "      <td>177.0</td>\n",
       "      <td>2905.527390</td>\n",
       "      <td>2011</td>\n",
       "      <td>15.331551</td>\n",
       "    </tr>\n",
       "    <tr>\n",
       "      <th>9703</th>\n",
       "      <td>270</td>\n",
       "      <td>140.0</td>\n",
       "      <td>2908.043477</td>\n",
       "      <td>2005</td>\n",
       "      <td>14.884467</td>\n",
       "    </tr>\n",
       "  </tbody>\n",
       "</table>\n",
       "<p>9704 rows × 5 columns</p>\n",
       "</div>"
      ],
      "text/plain": [
       "      engine_displacement  horsepower  vehicle_weight  model_year  \\\n",
       "0                     170       159.0     3413.433759        2003   \n",
       "1                     130        97.0     3149.664934        2007   \n",
       "2                     170        78.0     3079.038997        2018   \n",
       "3                     220         NaN     2542.392402        2009   \n",
       "4                     210       140.0     3460.870990        2009   \n",
       "...                   ...         ...             ...         ...   \n",
       "9699                  140       164.0     2981.107371        2013   \n",
       "9700                  180       154.0     2439.525729        2004   \n",
       "9701                  220       138.0     2583.471318        2008   \n",
       "9702                  230       177.0     2905.527390        2011   \n",
       "9703                  270       140.0     2908.043477        2005   \n",
       "\n",
       "      fuel_efficiency_mpg  \n",
       "0               13.231729  \n",
       "1               13.688217  \n",
       "2               14.246341  \n",
       "3               16.912736  \n",
       "4               12.488369  \n",
       "...                   ...  \n",
       "9699            15.101802  \n",
       "9700            17.962326  \n",
       "9701            17.186587  \n",
       "9702            15.331551  \n",
       "9703            14.884467  \n",
       "\n",
       "[9704 rows x 5 columns]"
      ]
     },
     "execution_count": 4,
     "metadata": {},
     "output_type": "execute_result"
    }
   ],
   "source": [
    "# selecting the necessary columns\n",
    "car_data = df[['engine_displacement','horsepower','vehicle_weight','model_year','fuel_efficiency_mpg']]\n",
    "car_data"
   ]
  },
  {
   "cell_type": "markdown",
   "id": "31bebd31-19eb-40de-b173-0f440387c0e2",
   "metadata": {},
   "source": [
    "### Exploratory Data Analysis"
   ]
  },
  {
   "cell_type": "code",
   "execution_count": 5,
   "id": "8b334e03-2b03-4415-8fd2-1318d7d41692",
   "metadata": {},
   "outputs": [
    {
     "name": "stdout",
     "output_type": "stream",
     "text": [
      "engine_displacement\n",
      "[170 130 220 210 190]\n",
      "36\n",
      "\n",
      "horsepower\n",
      "[159.  97.  78.  nan 140.]\n",
      "192\n",
      "\n",
      "vehicle_weight\n",
      "[3413.43375861 3149.66493422 3079.03899737 2542.39240183 3460.87098999]\n",
      "9704\n",
      "\n",
      "model_year\n",
      "[2003 2007 2018 2009 2008]\n",
      "24\n",
      "\n",
      "fuel_efficiency_mpg\n",
      "[13.23172891 13.68821744 14.246341   16.9127356  12.48836912]\n",
      "9704\n",
      "\n"
     ]
    }
   ],
   "source": [
    "# analysing the columns\n",
    "for col in car_data.columns:\n",
    "    print(col)\n",
    "    print(df[col].unique()[:5])\n",
    "    print(df[col].nunique())\n",
    "    print()"
   ]
  },
  {
   "cell_type": "code",
   "execution_count": 6,
   "id": "cf7a1886-7fc6-4e3a-bcc0-59f946858bcf",
   "metadata": {},
   "outputs": [
    {
     "data": {
      "text/plain": [
       "count    9704.000000\n",
       "mean       14.985243\n",
       "std         2.556468\n",
       "min         6.200971\n",
       "25%        13.267459\n",
       "50%        15.006037\n",
       "75%        16.707965\n",
       "max        25.967222\n",
       "Name: fuel_efficiency_mpg, dtype: float64"
      ]
     },
     "execution_count": 6,
     "metadata": {},
     "output_type": "execute_result"
    }
   ],
   "source": [
    "# basic statistics\n",
    "car_data['fuel_efficiency_mpg'].describe()"
   ]
  },
  {
   "cell_type": "markdown",
   "id": "e8a1361b-be50-45c9-ba2a-e4a8672a5a22",
   "metadata": {},
   "source": [
    "Distribution of 'fuel_efficiency_mpg'"
   ]
  },
  {
   "cell_type": "code",
   "execution_count": 7,
   "id": "ca476184-be5c-4a8a-ab97-73a4b62d0e61",
   "metadata": {},
   "outputs": [],
   "source": [
    "#importing libraries\n",
    "import matplotlib.pyplot as plt\n",
    "import seaborn as sns\n",
    "\n",
    "%matplotlib inline"
   ]
  },
  {
   "cell_type": "code",
   "execution_count": 8,
   "id": "55c33cba-1d12-45d0-84f4-b47d958d4e10",
   "metadata": {},
   "outputs": [
    {
     "data": {
      "text/plain": [
       "<Axes: xlabel='fuel_efficiency_mpg', ylabel='Count'>"
      ]
     },
     "execution_count": 8,
     "metadata": {},
     "output_type": "execute_result"
    },
    {
     "data": {
      "image/png": "[encoded data removed]",
      "text/plain": [
       "<Figure size 640x480 with 1 Axes>"
      ]
     },
     "metadata": {},
     "output_type": "display_data"
    }
   ],
   "source": [
    "# plotting the histogram for fuel efficiency\n",
    "sns.histplot(car_data.fuel_efficiency_mpg, bins=50)"
   ]
  },
  {
   "cell_type": "code",
   "execution_count": 9,
   "id": "c62ca981-844b-44e9-9280-ee9f62ca32af",
   "metadata": {},
   "outputs": [
    {
     "data": {
      "text/plain": [
       "<Axes: xlabel='fuel_efficiency_mpg', ylabel='Count'>"
      ]
     },
     "execution_count": 9,
     "metadata": {},
     "output_type": "execute_result"
    },
    {
     "data": {
      "image/png": "[encoded data removed]",
      "text/plain": [
       "<Figure size 640x480 with 1 Axes>"
      ]
     },
     "metadata": {},
     "output_type": "display_data"
    }
   ],
   "source": [
    "sns.histplot(car_data.fuel_efficiency_mpg[ (car_data.fuel_efficiency_mpg >20) & (car_data.fuel_efficiency_mpg < 50)], bins=50)"
   ]
  },
  {
   "cell_type": "code",
   "execution_count": 10,
   "id": "31cbe89a-c04c-4500-b82b-d83b304004ab",
   "metadata": {},
   "outputs": [
    {
     "data": {
      "text/plain": [
       "<Axes: xlabel='fuel_efficiency_mpg', ylabel='Count'>"
      ]
     },
     "execution_count": 10,
     "metadata": {},
     "output_type": "execute_result"
    },
    {
     "data": {
      "image/png": "[encoded data removed]",
      "text/plain": [
       "<Figure size 640x480 with 1 Axes>"
      ]
     },
     "metadata": {},
     "output_type": "display_data"
    }
   ],
   "source": [
    "sns.histplot(car_data.fuel_efficiency_mpg[ (car_data.fuel_efficiency_mpg >0) & (car_data.fuel_efficiency_mpg < 10)], bins=50)"
   ]
  },
  {
   "cell_type": "code",
   "execution_count": 11,
   "id": "d0761b91-0168-444f-93da-2a5cef36e9a9",
   "metadata": {},
   "outputs": [
    {
     "name": "stdout",
     "output_type": "stream",
     "text": [
      "Skewness: -0.012062219273507922\n"
     ]
    }
   ],
   "source": [
    "# calculating skewness using pandas\n",
    "skew_value = car_data['fuel_efficiency_mpg'].skew()\n",
    "print(\"Skewness:\", skew_value)"
   ]
  },
  {
   "cell_type": "markdown",
   "id": "416708dc-5521-4ab4-bb6f-bc13433822b4",
   "metadata": {},
   "source": [
    "skewness = -0.012 is very close to 0, so there's npo significant skew. The fuel_efficiency_mpg distribution is nearly symmetric — meaning there’s no noticeable long tail in either direction."
   ]
  },
  {
   "cell_type": "markdown",
   "id": "991eb0a2-3df4-4c7d-843d-85bbc6ffec8c",
   "metadata": {},
   "source": [
    "Missing Values\n",
    "\n",
    "Question 1\n",
    "There's one column with missing values. What is it?"
   ]
  },
  {
   "cell_type": "code",
   "execution_count": 12,
   "id": "a4363f32-4818-405b-8c9d-a58648ae77cd",
   "metadata": {},
   "outputs": [
    {
     "data": {
      "text/plain": [
       "engine_displacement      0\n",
       "horsepower             708\n",
       "vehicle_weight           0\n",
       "model_year               0\n",
       "fuel_efficiency_mpg      0\n",
       "dtype: int64"
      ]
     },
     "execution_count": 12,
     "metadata": {},
     "output_type": "execute_result"
    }
   ],
   "source": [
    "car_data.isnull().sum()"
   ]
  },
  {
   "cell_type": "markdown",
   "id": "b5b93148-9847-4f41-b044-704b9cf2b624",
   "metadata": {},
   "source": [
    "horsepower column has missing values"
   ]
  },
  {
   "cell_type": "markdown",
   "id": "3984f022-0e00-4d9e-a8ad-8ad8dabc9346",
   "metadata": {},
   "source": [
    "Question 2. Median for horse power"
   ]
  },
  {
   "cell_type": "code",
   "execution_count": 13,
   "id": "3c9aaed7-f5d6-497e-a389-687aca325e84",
   "metadata": {},
   "outputs": [
    {
     "name": "stdout",
     "output_type": "stream",
     "text": [
      "149.0\n"
     ]
    }
   ],
   "source": [
    "median_hp = car_data['horsepower'].median()\n",
    "print(median_hp)"
   ]
  },
  {
   "cell_type": "markdown",
   "id": "c9645f91-7f50-4375-90a7-9eaf46cf23a6",
   "metadata": {},
   "source": [
    "### Setting up the validation framework"
   ]
  },
  {
   "cell_type": "code",
   "execution_count": 14,
   "id": "2d14cf61-d581-4848-b499-531f17d815dd",
   "metadata": {},
   "outputs": [],
   "source": [
    "\n",
    "n =len(car_data)\n",
    "\n",
    "n_val = int(n * 0.2)\n",
    "n_test = int(n * 0.2)\n",
    "n_train = n - n_val - n_test"
   ]
  },
  {
   "cell_type": "code",
   "execution_count": 15,
   "id": "ece284a7-5955-4c06-95f6-5c429d976f49",
   "metadata": {},
   "outputs": [
    {
     "data": {
      "text/plain": [
       "9704"
      ]
     },
     "execution_count": 15,
     "metadata": {},
     "output_type": "execute_result"
    }
   ],
   "source": [
    "n"
   ]
  },
  {
   "cell_type": "code",
   "execution_count": 16,
   "id": "35f59706-3c83-4128-b546-fb76624fe507",
   "metadata": {},
   "outputs": [
    {
     "data": {
      "text/plain": [
       "(1940, 1940, 5824)"
      ]
     },
     "execution_count": 16,
     "metadata": {},
     "output_type": "execute_result"
    }
   ],
   "source": [
    "n_val, n_test, n_train"
   ]
  },
  {
   "cell_type": "code",
   "execution_count": 17,
   "id": "99b2dd1f-bad6-42a2-b0b5-d713d079a581",
   "metadata": {},
   "outputs": [
    {
     "data": {
      "text/html": [
       "<div>\n",
       "<style scoped>\n",
       "    .dataframe tbody tr th:only-of-type {\n",
       "        vertical-align: middle;\n",
       "    }\n",
       "\n",
       "    .dataframe tbody tr th {\n",
       "        vertical-align: top;\n",
       "    }\n",
       "\n",
       "    .dataframe thead th {\n",
       "        text-align: right;\n",
       "    }\n",
       "</style>\n",
       "<table border=\"1\" class=\"dataframe\">\n",
       "  <thead>\n",
       "    <tr style=\"text-align: right;\">\n",
       "      <th></th>\n",
       "      <th>engine_displacement</th>\n",
       "      <th>horsepower</th>\n",
       "      <th>vehicle_weight</th>\n",
       "      <th>model_year</th>\n",
       "      <th>fuel_efficiency_mpg</th>\n",
       "    </tr>\n",
       "  </thead>\n",
       "  <tbody>\n",
       "    <tr>\n",
       "      <th>15</th>\n",
       "      <td>220</td>\n",
       "      <td>179.0</td>\n",
       "      <td>2631.065204</td>\n",
       "      <td>2006</td>\n",
       "      <td>16.756081</td>\n",
       "    </tr>\n",
       "    <tr>\n",
       "      <th>0</th>\n",
       "      <td>170</td>\n",
       "      <td>159.0</td>\n",
       "      <td>3413.433759</td>\n",
       "      <td>2003</td>\n",
       "      <td>13.231729</td>\n",
       "    </tr>\n",
       "    <tr>\n",
       "      <th>22</th>\n",
       "      <td>190</td>\n",
       "      <td>144.0</td>\n",
       "      <td>2438.842126</td>\n",
       "      <td>2016</td>\n",
       "      <td>17.080405</td>\n",
       "    </tr>\n",
       "    <tr>\n",
       "      <th>5</th>\n",
       "      <td>190</td>\n",
       "      <td>NaN</td>\n",
       "      <td>2484.883986</td>\n",
       "      <td>2008</td>\n",
       "      <td>17.271818</td>\n",
       "    </tr>\n",
       "  </tbody>\n",
       "</table>\n",
       "</div>"
      ],
      "text/plain": [
       "    engine_displacement  horsepower  vehicle_weight  model_year  \\\n",
       "15                  220       179.0     2631.065204        2006   \n",
       "0                   170       159.0     3413.433759        2003   \n",
       "22                  190       144.0     2438.842126        2016   \n",
       "5                   190         NaN     2484.883986        2008   \n",
       "\n",
       "    fuel_efficiency_mpg  \n",
       "15            16.756081  \n",
       "0             13.231729  \n",
       "22            17.080405  \n",
       "5             17.271818  "
      ]
     },
     "execution_count": 17,
     "metadata": {},
     "output_type": "execute_result"
    }
   ],
   "source": [
    "car_data.iloc[[15, 0, 22, 5]]"
   ]
  },
  {
   "cell_type": "code",
   "execution_count": 18,
   "id": "88fe09a3-d795-4410-96d2-d1d1230f29a0",
   "metadata": {},
   "outputs": [],
   "source": [
    "df_train = car_data.iloc[:n_train]\n",
    "df_val = car_data.iloc[n_train:n_train+n_val]\n",
    "df_test = car_data.iloc[n_train+n_val:]"
   ]
  },
  {
   "cell_type": "code",
   "execution_count": 19,
   "id": "bc1a2f7e-b1bd-4ac5-a1cf-b05705c1f568",
   "metadata": {},
   "outputs": [
    {
     "data": {
      "text/plain": [
       "array([   0,    1,    2, ..., 9701, 9702, 9703], shape=(9704,))"
      ]
     },
     "execution_count": 19,
     "metadata": {},
     "output_type": "execute_result"
    }
   ],
   "source": [
    "idx = np.arange(n)\n",
    "idx"
   ]
  },
  {
   "cell_type": "code",
   "execution_count": 20,
   "id": "3de55431-2654-4703-814f-244203a314fc",
   "metadata": {},
   "outputs": [],
   "source": [
    "np.random.seed(42)\n",
    "np.random.shuffle(idx)"
   ]
  },
  {
   "cell_type": "code",
   "execution_count": 21,
   "id": "8900000a-c456-4119-a242-ac49e2f595de",
   "metadata": {},
   "outputs": [],
   "source": [
    "#car_data.iloc[idx[:10]]"
   ]
  },
  {
   "cell_type": "code",
   "execution_count": 22,
   "id": "a87d0928-5044-477c-a6b6-a5738ca56363",
   "metadata": {},
   "outputs": [],
   "source": [
    "df_train = car_data.iloc[idx[:n_train]]\n",
    "df_val = car_data.iloc[idx[n_train:n_train+n_val]]\n",
    "df_test = car_data.iloc[idx[n_train+n_val:]]"
   ]
  },
  {
   "cell_type": "code",
   "execution_count": 23,
   "id": "64b6f6a1-3cc2-458f-aaa4-da5891176122",
   "metadata": {},
   "outputs": [
    {
     "data": {
      "text/html": [
       "<div>\n",
       "<style scoped>\n",
       "    .dataframe tbody tr th:only-of-type {\n",
       "        vertical-align: middle;\n",
       "    }\n",
       "\n",
       "    .dataframe tbody tr th {\n",
       "        vertical-align: top;\n",
       "    }\n",
       "\n",
       "    .dataframe thead th {\n",
       "        text-align: right;\n",
       "    }\n",
       "</style>\n",
       "<table border=\"1\" class=\"dataframe\">\n",
       "  <thead>\n",
       "    <tr style=\"text-align: right;\">\n",
       "      <th></th>\n",
       "      <th>engine_displacement</th>\n",
       "      <th>horsepower</th>\n",
       "      <th>vehicle_weight</th>\n",
       "      <th>model_year</th>\n",
       "      <th>fuel_efficiency_mpg</th>\n",
       "    </tr>\n",
       "  </thead>\n",
       "  <tbody>\n",
       "    <tr>\n",
       "      <th>483</th>\n",
       "      <td>220</td>\n",
       "      <td>144.0</td>\n",
       "      <td>2535.887591</td>\n",
       "      <td>2009</td>\n",
       "      <td>16.642943</td>\n",
       "    </tr>\n",
       "    <tr>\n",
       "      <th>7506</th>\n",
       "      <td>160</td>\n",
       "      <td>141.0</td>\n",
       "      <td>2741.170484</td>\n",
       "      <td>2019</td>\n",
       "      <td>16.298377</td>\n",
       "    </tr>\n",
       "    <tr>\n",
       "      <th>8795</th>\n",
       "      <td>230</td>\n",
       "      <td>155.0</td>\n",
       "      <td>2471.880237</td>\n",
       "      <td>2017</td>\n",
       "      <td>18.591822</td>\n",
       "    </tr>\n",
       "    <tr>\n",
       "      <th>1688</th>\n",
       "      <td>150</td>\n",
       "      <td>206.0</td>\n",
       "      <td>3748.164469</td>\n",
       "      <td>2015</td>\n",
       "      <td>11.818843</td>\n",
       "    </tr>\n",
       "    <tr>\n",
       "      <th>6217</th>\n",
       "      <td>300</td>\n",
       "      <td>111.0</td>\n",
       "      <td>2135.716359</td>\n",
       "      <td>2006</td>\n",
       "      <td>19.402209</td>\n",
       "    </tr>\n",
       "  </tbody>\n",
       "</table>\n",
       "</div>"
      ],
      "text/plain": [
       "      engine_displacement  horsepower  vehicle_weight  model_year  \\\n",
       "483                   220       144.0     2535.887591        2009   \n",
       "7506                  160       141.0     2741.170484        2019   \n",
       "8795                  230       155.0     2471.880237        2017   \n",
       "1688                  150       206.0     3748.164469        2015   \n",
       "6217                  300       111.0     2135.716359        2006   \n",
       "\n",
       "      fuel_efficiency_mpg  \n",
       "483             16.642943  \n",
       "7506            16.298377  \n",
       "8795            18.591822  \n",
       "1688            11.818843  \n",
       "6217            19.402209  "
      ]
     },
     "execution_count": 23,
     "metadata": {},
     "output_type": "execute_result"
    }
   ],
   "source": [
    "df_train.head()"
   ]
  },
  {
   "cell_type": "code",
   "execution_count": 24,
   "id": "222df3af-6205-4241-9131-d74af5ecdf9b",
   "metadata": {},
   "outputs": [
    {
     "data": {
      "text/plain": [
       "(5824, 1940, 1940)"
      ]
     },
     "execution_count": 24,
     "metadata": {},
     "output_type": "execute_result"
    }
   ],
   "source": [
    "len(df_train), len(df_val), len(df_test)"
   ]
  },
  {
   "cell_type": "code",
   "execution_count": 25,
   "id": "0fc85714-c67e-463f-be8b-d3f43739b447",
   "metadata": {},
   "outputs": [],
   "source": [
    "df_train = df_train.reset_index(drop=True)\n",
    "df_val = df_val.reset_index(drop=True)\n",
    "df_test = df_test.reset_index(drop=True)"
   ]
  },
  {
   "cell_type": "code",
   "execution_count": 26,
   "id": "d653502d-a7a8-4e01-9948-d8922c76eedc",
   "metadata": {},
   "outputs": [],
   "source": [
    "#df_train"
   ]
  },
  {
   "cell_type": "code",
   "execution_count": 27,
   "id": "16e54ba7-7928-41e1-a665-8aec4af96cdd",
   "metadata": {},
   "outputs": [],
   "source": [
    "y_train = df_train.fuel_efficiency_mpg.values\n",
    "y_val = df_val.fuel_efficiency_mpg.values\n",
    "y_test = df_test.fuel_efficiency_mpg.values"
   ]
  },
  {
   "cell_type": "code",
   "execution_count": 28,
   "id": "1af233b0-0cef-4a51-9316-1793e608997a",
   "metadata": {},
   "outputs": [
    {
     "data": {
      "text/plain": [
       "array([16.64294342, 16.29837715, 18.59182197, ..., 17.59323665,\n",
       "       18.92574819, 17.96528447], shape=(5824,))"
      ]
     },
     "execution_count": 28,
     "metadata": {},
     "output_type": "execute_result"
    }
   ],
   "source": [
    "y_train"
   ]
  },
  {
   "cell_type": "code",
   "execution_count": 29,
   "id": "ed4a6a04-719a-42ad-8e43-6b4815fd3874",
   "metadata": {},
   "outputs": [],
   "source": [
    "del df_train['fuel_efficiency_mpg']\n",
    "del df_val['fuel_efficiency_mpg']\n",
    "del df_test['fuel_efficiency_mpg']"
   ]
  },
  {
   "cell_type": "code",
   "execution_count": 30,
   "id": "dd7e3b43-96b2-4dab-9b0c-6f15bd8d9611",
   "metadata": {},
   "outputs": [
    {
     "data": {
      "text/plain": [
       "5824"
      ]
     },
     "execution_count": 30,
     "metadata": {},
     "output_type": "execute_result"
    }
   ],
   "source": [
    "len(y_train)"
   ]
  },
  {
   "cell_type": "markdown",
   "id": "34bba0dc-ea38-41e0-b1bf-5a4f6d6dd84a",
   "metadata": {},
   "source": [
    "### Linear Regression"
   ]
  },
  {
   "cell_type": "markdown",
   "id": "ac2fbc5b-0f0b-4757-ad66-86b8185d0f94",
   "metadata": {},
   "source": [
    "Question 3\n",
    "We need to deal with missing values for the column from Q1.\n",
    "We have two options: fill it with 0 or with the mean of this variable.\n",
    "Try both options. For each, train a linear regression model without regularization using the code from the lessons.\n",
    "For computing the mean, use the training only!\n",
    "Use the validation dataset to evaluate the models and compare the RMSE of each option.\n",
    "Round the RMSE scores to 2 decimal digits using round(score, 2)\n",
    "Which option gives better RMSE?\n",
    "\n",
    "Options:\n",
    "\n",
    "- With 0 \n",
    "- With mean \n",
    "- Both are equally good"
   ]
  },
  {
   "cell_type": "markdown",
   "id": "778864bb-be4f-4d38-81ae-b15535cb6a03",
   "metadata": {},
   "source": [
    "\n",
    "Filling the  missing values with 0 for the column 'horsepower'.\n"
   ]
  },
  {
   "cell_type": "code",
   "execution_count": 31,
   "id": "ecffa0e0-5ccc-4e56-893e-d83de79fe207",
   "metadata": {},
   "outputs": [
    {
     "data": {
      "text/html": [
       "<div>\n",
       "<style scoped>\n",
       "    .dataframe tbody tr th:only-of-type {\n",
       "        vertical-align: middle;\n",
       "    }\n",
       "\n",
       "    .dataframe tbody tr th {\n",
       "        vertical-align: top;\n",
       "    }\n",
       "\n",
       "    .dataframe thead th {\n",
       "        text-align: right;\n",
       "    }\n",
       "</style>\n",
       "<table border=\"1\" class=\"dataframe\">\n",
       "  <thead>\n",
       "    <tr style=\"text-align: right;\">\n",
       "      <th></th>\n",
       "      <th>engine_displacement</th>\n",
       "      <th>horsepower</th>\n",
       "      <th>vehicle_weight</th>\n",
       "      <th>model_year</th>\n",
       "    </tr>\n",
       "  </thead>\n",
       "  <tbody>\n",
       "    <tr>\n",
       "      <th>0</th>\n",
       "      <td>220</td>\n",
       "      <td>144.0</td>\n",
       "      <td>2535.887591</td>\n",
       "      <td>2009</td>\n",
       "    </tr>\n",
       "    <tr>\n",
       "      <th>1</th>\n",
       "      <td>160</td>\n",
       "      <td>141.0</td>\n",
       "      <td>2741.170484</td>\n",
       "      <td>2019</td>\n",
       "    </tr>\n",
       "    <tr>\n",
       "      <th>2</th>\n",
       "      <td>230</td>\n",
       "      <td>155.0</td>\n",
       "      <td>2471.880237</td>\n",
       "      <td>2017</td>\n",
       "    </tr>\n",
       "    <tr>\n",
       "      <th>3</th>\n",
       "      <td>150</td>\n",
       "      <td>206.0</td>\n",
       "      <td>3748.164469</td>\n",
       "      <td>2015</td>\n",
       "    </tr>\n",
       "    <tr>\n",
       "      <th>4</th>\n",
       "      <td>300</td>\n",
       "      <td>111.0</td>\n",
       "      <td>2135.716359</td>\n",
       "      <td>2006</td>\n",
       "    </tr>\n",
       "    <tr>\n",
       "      <th>...</th>\n",
       "      <td>...</td>\n",
       "      <td>...</td>\n",
       "      <td>...</td>\n",
       "      <td>...</td>\n",
       "    </tr>\n",
       "    <tr>\n",
       "      <th>5819</th>\n",
       "      <td>260</td>\n",
       "      <td>139.0</td>\n",
       "      <td>2606.972984</td>\n",
       "      <td>2009</td>\n",
       "    </tr>\n",
       "    <tr>\n",
       "      <th>5820</th>\n",
       "      <td>280</td>\n",
       "      <td>132.0</td>\n",
       "      <td>4004.214323</td>\n",
       "      <td>2014</td>\n",
       "    </tr>\n",
       "    <tr>\n",
       "      <th>5821</th>\n",
       "      <td>210</td>\n",
       "      <td>152.0</td>\n",
       "      <td>2500.175687</td>\n",
       "      <td>2020</td>\n",
       "    </tr>\n",
       "    <tr>\n",
       "      <th>5822</th>\n",
       "      <td>250</td>\n",
       "      <td>154.0</td>\n",
       "      <td>2254.313245</td>\n",
       "      <td>2002</td>\n",
       "    </tr>\n",
       "    <tr>\n",
       "      <th>5823</th>\n",
       "      <td>210</td>\n",
       "      <td>152.0</td>\n",
       "      <td>2435.203606</td>\n",
       "      <td>2004</td>\n",
       "    </tr>\n",
       "  </tbody>\n",
       "</table>\n",
       "<p>5824 rows × 4 columns</p>\n",
       "</div>"
      ],
      "text/plain": [
       "      engine_displacement  horsepower  vehicle_weight  model_year\n",
       "0                     220       144.0     2535.887591        2009\n",
       "1                     160       141.0     2741.170484        2019\n",
       "2                     230       155.0     2471.880237        2017\n",
       "3                     150       206.0     3748.164469        2015\n",
       "4                     300       111.0     2135.716359        2006\n",
       "...                   ...         ...             ...         ...\n",
       "5819                  260       139.0     2606.972984        2009\n",
       "5820                  280       132.0     4004.214323        2014\n",
       "5821                  210       152.0     2500.175687        2020\n",
       "5822                  250       154.0     2254.313245        2002\n",
       "5823                  210       152.0     2435.203606        2004\n",
       "\n",
       "[5824 rows x 4 columns]"
      ]
     },
     "execution_count": 31,
     "metadata": {},
     "output_type": "execute_result"
    }
   ],
   "source": [
    "df_train"
   ]
  },
  {
   "cell_type": "code",
   "execution_count": 32,
   "id": "ecea508b-7b77-4fe9-adcf-e9b343614a7a",
   "metadata": {},
   "outputs": [],
   "source": [
    "def train_linear_regression(X, y):\n",
    "    ones = np.ones(X.shape[0])\n",
    "    X = np.column_stack([ones, X])\n",
    "\n",
    "    XTX = X.T.dot(X)\n",
    "    XTX_inv = np.linalg.inv(XTX)\n",
    "    w_full = XTX_inv.dot(X.T).dot(y)\n",
    "    \n",
    "    return w_full[0], w_full[1:]\n"
   ]
  },
  {
   "cell_type": "code",
   "execution_count": 33,
   "id": "ffd1b984-a631-4153-bdb3-c394d87c683f",
   "metadata": {},
   "outputs": [],
   "source": [
    "X_train = df_train.fillna(0).values\n",
    "\n",
    "w0, w = train_linear_regression(X_train, y_train)\n",
    "\n",
    "y_pred = w0 + X_train.dot(w)"
   ]
  },
  {
   "cell_type": "code",
   "execution_count": 34,
   "id": "e33f3a4e-c832-4068-9828-8e97738e427d",
   "metadata": {},
   "outputs": [
    {
     "data": {
      "text/plain": [
       "np.float64(28.82736547365895)"
      ]
     },
     "execution_count": 34,
     "metadata": {},
     "output_type": "execute_result"
    }
   ],
   "source": [
    "w0"
   ]
  },
  {
   "cell_type": "code",
   "execution_count": 35,
   "id": "01fca6b7-26a1-4ac7-a5d6-c0ebb4f6c26c",
   "metadata": {},
   "outputs": [
    {
     "data": {
      "text/plain": [
       "array([ 9.93613218e-05,  3.54221891e-03, -5.01328015e-03,  3.42992870e-04])"
      ]
     },
     "execution_count": 35,
     "metadata": {},
     "output_type": "execute_result"
    }
   ],
   "source": [
    "w\n"
   ]
  },
  {
   "cell_type": "markdown",
   "id": "96ee624f-98b1-4f9e-acdf-24a7b615636b",
   "metadata": {},
   "source": [
    "RMSE "
   ]
  },
  {
   "cell_type": "code",
   "execution_count": 36,
   "id": "c264cc73-4a30-47dd-8fa2-0796816b7ef7",
   "metadata": {},
   "outputs": [],
   "source": [
    "def rmse(y, y_pred):\n",
    "    se = (y - y_pred) ** 2\n",
    "    mse = se.mean()\n",
    "    return np.sqrt(mse)"
   ]
  },
  {
   "cell_type": "code",
   "execution_count": 37,
   "id": "beeee65f-a804-40fa-8831-7a63a0eadd6d",
   "metadata": {},
   "outputs": [
    {
     "name": "stdout",
     "output_type": "stream",
     "text": [
      "0.52\n"
     ]
    }
   ],
   "source": [
    "rmse_value = rmse(y_train, y_pred)\n",
    "print(round(rmse_value, 2))"
   ]
  },
  {
   "cell_type": "markdown",
   "id": "fcea28b6-24d0-4e5a-9576-86ae5d94d7f7",
   "metadata": {},
   "source": [
    "Validating the model"
   ]
  },
  {
   "cell_type": "code",
   "execution_count": 40,
   "id": "ac0dcd97-58f9-4d92-8dd3-7ff78fce6618",
   "metadata": {},
   "outputs": [],
   "source": [
    "def prepare_X(df):\n",
    "    df_num = df.copy()\n",
    "    df_num = df_num.fillna(0)\n",
    "    X = df_num.values\n",
    "    return X"
   ]
  },
  {
   "cell_type": "code",
   "execution_count": 44,
   "id": "38af09d3-7c5d-4091-aa49-183d1a45c65d",
   "metadata": {},
   "outputs": [
    {
     "name": "stdout",
     "output_type": "stream",
     "text": [
      "0.52\n"
     ]
    }
   ],
   "source": [
    "X_train = prepare_X(df_train)\n",
    "w0, w = train_linear_regression(X_train, y_train)\n",
    "\n",
    "X_val = prepare_X(df_val)\n",
    "y_pred = w0 + X_val.dot(w)\n",
    "rmse(y_val, y_pred)\n",
    "print(round(rmse(y_val, y_pred),2))\n",
    "\n"
   ]
  },
  {
   "cell_type": "markdown",
   "id": "28f92ce5-9885-461c-bf21-9c064d87bffb",
   "metadata": {},
   "source": [
    "Filling the missing values with mean for the column 'horsepower'."
   ]
  },
  {
   "cell_type": "code",
   "execution_count": 45,
   "id": "be15e15d-a351-4bf7-84d2-5d0d9fbfcd9c",
   "metadata": {},
   "outputs": [],
   "source": [
    "X_train = df_train.fillna(df_train.mean()).values\n",
    "w0, w = train_linear_regression(X_train, y_train)\n",
    "\n",
    "y_pred = w0 + X_train.dot(w)"
   ]
  },
  {
   "cell_type": "code",
   "execution_count": 46,
   "id": "c13a03cd-9fd3-451f-a0ef-6c8b96db492d",
   "metadata": {},
   "outputs": [
    {
     "data": {
      "text/plain": [
       "np.float64(28.925259951002698)"
      ]
     },
     "execution_count": 46,
     "metadata": {},
     "output_type": "execute_result"
    }
   ],
   "source": [
    "w0"
   ]
  },
  {
   "cell_type": "code",
   "execution_count": 47,
   "id": "894a7e5b-e399-4bac-bafb-2dd39f53bc23",
   "metadata": {},
   "outputs": [
    {
     "data": {
      "text/plain": [
       "array([ 0.00012093,  0.01030308, -0.00501009, -0.00023463])"
      ]
     },
     "execution_count": 47,
     "metadata": {},
     "output_type": "execute_result"
    }
   ],
   "source": [
    "w"
   ]
  },
  {
   "cell_type": "markdown",
   "id": "3112b93d-162f-4e67-97d3-dc4b7514b5bf",
   "metadata": {},
   "source": [
    "RMSE"
   ]
  },
  {
   "cell_type": "code",
   "execution_count": 48,
   "id": "61c26424-b3cc-48ec-8f84-2bceb49beacf",
   "metadata": {},
   "outputs": [],
   "source": [
    "def rmse(y, y_pred):\n",
    "    se = (y - y_pred) ** 2\n",
    "    mse = se.mean()\n",
    "    return np.sqrt(mse)"
   ]
  },
  {
   "cell_type": "code",
   "execution_count": 49,
   "id": "07802a3e-5136-4c98-9037-06bdb7ea79dc",
   "metadata": {},
   "outputs": [
    {
     "name": "stdout",
     "output_type": "stream",
     "text": [
      "0.46\n"
     ]
    }
   ],
   "source": [
    "rmse_value = rmse(y_train, y_pred)\n",
    "print(round(rmse_value, 2))"
   ]
  },
  {
   "cell_type": "markdown",
   "id": "073ac390-edec-46cc-8275-f78c0a750b68",
   "metadata": {},
   "source": [
    "Validating the model"
   ]
  },
  {
   "cell_type": "code",
   "execution_count": 56,
   "id": "34887b24-6a2e-4d34-a6bb-832f0f4018e1",
   "metadata": {},
   "outputs": [],
   "source": [
    "def prepare_X(df):\n",
    "    df_num = df.copy()\n",
    "    df_num = df_num.fillna(df_num.mean())\n",
    "    X = df_num.values\n",
    "    return X"
   ]
  },
  {
   "cell_type": "code",
   "execution_count": 57,
   "id": "87fd6763-2e7a-4a5d-845c-bde3c4cca8f7",
   "metadata": {},
   "outputs": [
    {
     "data": {
      "text/plain": [
       "5824"
      ]
     },
     "execution_count": 57,
     "metadata": {},
     "output_type": "execute_result"
    }
   ],
   "source": [
    "df_train.shape[0]\n",
    "#df_val.shape[0]"
   ]
  },
  {
   "cell_type": "code",
   "execution_count": 58,
   "id": "ee32223f-0598-4f60-aba8-876968682a0e",
   "metadata": {},
   "outputs": [
    {
     "name": "stdout",
     "output_type": "stream",
     "text": [
      "0.46\n"
     ]
    }
   ],
   "source": [
    "X_train = prepare_X(df_train)\n",
    "w0, w = train_linear_regression(X_train, y_train)\n",
    "\n",
    "X_val = prepare_X(df_val)\n",
    "y_pred = w0 + X_val.dot(w)\n",
    "rmse(y_val, y_pred)\n",
    "print(round(rmse(y_val, y_pred),2))\n"
   ]
  },
  {
   "cell_type": "markdown",
   "id": "b9dd7d09-261f-4af2-aa71-5831d68a53c5",
   "metadata": {},
   "source": [
    "RMSE (fill with 0): 0.52\n",
    "RMSE (fill with mean): 0.46\n",
    "- Filling missing horsepower values with the mean gives a lower RMSE,\n",
    "so it performs better than filling with 0."
   ]
  },
  {
   "cell_type": "markdown",
   "id": "c13fe966-bf95-45e6-8f01-ba124a505a14",
   "metadata": {},
   "source": [
    "### Regularization\n",
    "\n",
    "Question 4\n",
    "Now let's train a regularized linear regression.\n",
    "For this question, fill the NAs with 0.\n",
    "Try different values of r from this list: [0, 0.01, 0.1, 1, 5, 10, 100].\n",
    "Use RMSE to evaluate the model on the validation dataset.\n",
    "Round the RMSE scores to 2 decimal digits.\n",
    "Which r gives the best RMSE?\n",
    "If multiple options give the same best RMSE, select the smallest r.\n",
    "\n",
    "- Options:\n",
    "\n",
    " - 0\n",
    " - 0.01\n",
    " - 1\n",
    " - 10\n",
    " - 100\n"
   ]
  },
  {
   "cell_type": "code",
   "execution_count": 61,
   "id": "b9a1ce60-980f-494b-91dc-b35e4b443ea9",
   "metadata": {},
   "outputs": [],
   "source": [
    "def train_linear_regression_reg(X, y, r=0.001):\n",
    "    ones = np.ones(X.shape[0])\n",
    "    X = np.column_stack([ones, X])\n",
    "\n",
    "    XTX = X.T.dot(X)\n",
    "    XTX = XTX + r * np.eye(XTX.shape[0])\n",
    "\n",
    "    XTX_inv = np.linalg.inv(XTX)\n",
    "    w_full = XTX_inv.dot(X.T).dot(y)\n",
    "    \n",
    "    return w_full[0], w_full[1:]\n"
   ]
  },
  {
   "cell_type": "code",
   "execution_count": 62,
   "id": "cc673551-5471-428a-8153-a54e620700fd",
   "metadata": {},
   "outputs": [],
   "source": [
    "def prepare_X(df):\n",
    "    df_num = df.copy()\n",
    "    df_num = df_num.fillna(0)\n",
    "    X = df_num.values\n",
    "    return X"
   ]
  },
  {
   "cell_type": "code",
   "execution_count": 74,
   "id": "27592d8e-e272-41a3-8831-343884e7de9e",
   "metadata": {},
   "outputs": [
    {
     "name": "stdout",
     "output_type": "stream",
     "text": [
      "0.51711\n"
     ]
    }
   ],
   "source": [
    "X_train = prepare_X(df_train)\n",
    "w0, w = train_linear_regression_reg(X_train, y_train, r=0.01)\n",
    "\n",
    "X_val = prepare_X(df_val)\n",
    "y_pred = w0 + X_val.dot(w)\n",
    "rmse(y_val, y_pred)\n",
    "r1 = rmse(y_val, y_pred)\n",
    "print(round(r1,5))"
   ]
  },
  {
   "cell_type": "code",
   "execution_count": 73,
   "id": "d0c63d78-c6a7-4127-b846-d5af23dbd59d",
   "metadata": {},
   "outputs": [
    {
     "name": "stdout",
     "output_type": "stream",
     "text": [
      "0.51738\n"
     ]
    }
   ],
   "source": [
    "X_train = prepare_X(df_train)\n",
    "w0, w = train_linear_regression_reg(X_train, y_train, r=0)\n",
    "\n",
    "X_val = prepare_X(df_val)\n",
    "y_pred = w0 + X_val.dot(w)\n",
    "rmse(y_val, y_pred)\n",
    "r2 = rmse(y_val, y_pred)\n",
    "print(round(r2,5))"
   ]
  },
  {
   "cell_type": "code",
   "execution_count": 65,
   "id": "166fb9bc-d450-47c4-9b9a-84a5bde7535f",
   "metadata": {},
   "outputs": [
    {
     "data": {
      "text/plain": [
       "np.float64(0.5222348802093141)"
      ]
     },
     "execution_count": 65,
     "metadata": {},
     "output_type": "execute_result"
    }
   ],
   "source": [
    "X_train = prepare_X(df_train)\n",
    "w0, w = train_linear_regression_reg(X_train, y_train, r=1)\n",
    "\n",
    "X_val = prepare_X(df_val)\n",
    "y_pred = w0 + X_val.dot(w)\n",
    "rmse(y_val, y_pred)"
   ]
  },
  {
   "cell_type": "code",
   "execution_count": 66,
   "id": "41ea1e08-7ef8-4204-acc2-38d14ad97fd0",
   "metadata": {},
   "outputs": [
    {
     "data": {
      "text/plain": [
       "np.float64(0.5229812979636599)"
      ]
     },
     "execution_count": 66,
     "metadata": {},
     "output_type": "execute_result"
    }
   ],
   "source": [
    "X_train = prepare_X(df_train)\n",
    "w0, w = train_linear_regression_reg(X_train, y_train, r=10)\n",
    "\n",
    "X_val = prepare_X(df_val)\n",
    "y_pred = w0 + X_val.dot(w)\n",
    "rmse(y_val, y_pred)"
   ]
  },
  {
   "cell_type": "code",
   "execution_count": 67,
   "id": "6b98bc37-7c2e-4c89-9bcc-36844c00ef77",
   "metadata": {},
   "outputs": [
    {
     "data": {
      "text/plain": [
       "np.float64(0.5230636233819933)"
      ]
     },
     "execution_count": 67,
     "metadata": {},
     "output_type": "execute_result"
    }
   ],
   "source": [
    "X_train = prepare_X(df_train)\n",
    "w0, w = train_linear_regression_reg(X_train, y_train, r=100)\n",
    "\n",
    "X_val = prepare_X(df_val)\n",
    "y_pred = w0 + X_val.dot(w)\n",
    "rmse(y_val, y_pred)"
   ]
  },
  {
   "cell_type": "markdown",
   "id": "a03c8d41-6a9d-4035-bba3-112309d62664",
   "metadata": {},
   "source": [
    "for r = 0.01 gives the best RMSE"
   ]
  },
  {
   "cell_type": "markdown",
   "id": "a3550a59-8e07-47fa-bdd4-468da3dbf2d3",
   "metadata": {},
   "source": [
    "Question 5\n",
    "We used seed 42 for splitting the data. Let's find out how selecting the seed influences our score.\n",
    "Try different seed values: [0, 1, 2, 3, 4, 5, 6, 7, 8, 9].\n",
    "For each seed, do the train/validation/test split with 60%/20%/20% distribution.\n",
    "Fill the missing values with 0 and train a model without regularization.\n",
    "For each seed, evaluate the model on the validation dataset and collect the RMSE scores.\n",
    "What's the standard deviation of all the scores? To compute the standard deviation, use np.std.\n",
    "Round the result to 3 decimal digits (round(std, 3))\n",
    "- What's the value of std?\n",
    "\n",
    "- 0.001\n",
    "- 0.006\n",
    "- 0.060\n",
    "- 0.600"
   ]
  },
  {
   "cell_type": "code",
   "execution_count": null,
   "id": "770029f1-ac18-4d02-abf6-984edea8dea9",
   "metadata": {},
   "outputs": [],
   "source": []
  },
  {
   "cell_type": "code",
   "execution_count": null,
   "id": "b36252ff-9bd6-4af1-9aed-f194a7b21edb",
   "metadata": {},
   "outputs": [],
   "source": []
  },
  {
   "cell_type": "code",
   "execution_count": 85,
   "id": "8afe9b47-d31c-4882-984f-1c8247470ef0",
   "metadata": {},
   "outputs": [
    {
     "name": "stdout",
     "output_type": "stream",
     "text": [
      "RMSE scores by seed: [np.float64(0.521), np.float64(0.522), np.float64(0.523), np.float64(0.516), np.float64(0.511), np.float64(0.529), np.float64(0.532), np.float64(0.51), np.float64(0.515), np.float64(0.513)]\n",
      "Standard deviation of RMSE: 0.007\n"
     ]
    }
   ],
   "source": [
    "import pandas as pd\n",
    "import numpy as np\n",
    "\n",
    "# ---------------------------------------------\n",
    "# 1️⃣ Load the dataset\n",
    "# ---------------------------------------------\n",
    "url = 'https://raw.githubusercontent.com/alexeygrigorev/datasets/master/car_fuel_efficiency.csv'\n",
    "df = pd.read_csv(url)\n",
    "df = df[['engine_displacement', 'horsepower', 'vehicle_weight', 'model_year', 'fuel_efficiency_mpg']]\n",
    "# ---------------------------------------------\n",
    "# 2️⃣ Define helper functions\n",
    "# ---------------------------------------------\n",
    "def prepare_X(df):\n",
    "    df_num = df.drop(columns=['fuel_efficiency_mpg'], errors='ignore').copy()\n",
    "    df_num = df_num.fillna(0)\n",
    "    X = df_num.values\n",
    "    return X\n",
    "\n",
    "def train_linear_regression(X, y):\n",
    "    ones = np.ones(X.shape[0])\n",
    "    X = np.column_stack([ones, X])\n",
    "\n",
    "    XTX = X.T.dot(X)\n",
    "    XTX_inv = np.linalg.inv(XTX)\n",
    "    w_full = XTX_inv.dot(X.T).dot(y)\n",
    "    \n",
    "    return w_full[0], w_full[1:]\n",
    "\n",
    "def rmse(y, y_pred):\n",
    "    se = (y - y_pred) ** 2\n",
    "    mse = se.mean()\n",
    "    return np.sqrt(mse)\n",
    "# ---------------------------------------------\n",
    "# 3️⃣ Run experiment for multiple seeds\n",
    "# ---------------------------------------------\n",
    "rmse_scores = []\n",
    "\n",
    "for seed in range(10):\n",
    "    # Shuffle dataset with each seed\n",
    "    df_shuffled = df.sample(frac=1, random_state=seed).reset_index(drop=True)\n",
    "    \n",
    "    n = len(df_shuffled)\n",
    "    n_train = int(0.6 * n)\n",
    "    n_val = int(0.2 * n)\n",
    "    n_test = n - n_train - n_val\n",
    "\n",
    "    df_train = df_shuffled.iloc[:n_train]\n",
    "    df_val = df_shuffled.iloc[n_train:n_train + n_val]\n",
    "    df_test = df_shuffled.iloc[n_train + n_val:]\n",
    "\n",
    "    # Prepare train and validation data\n",
    "    X_train = prepare_X(df_train)\n",
    "    X_val = prepare_X(df_val)\n",
    "    \n",
    "    y_train = df_train.fuel_efficiency_mpg.values\n",
    "    y_val = df_val.fuel_efficiency_mpg.values\n",
    "\n",
    "    # Train and evaluate\n",
    "    w0, w = train_linear_regression(X_train, y_train)\n",
    "    y_pred = w0 + X_val.dot(w)\n",
    "    \n",
    "    score = rmse(y_val, y_pred)\n",
    "    rmse_scores.append(score)\n",
    "\n",
    "# ---------------------------------------------\n",
    "# 4️⃣ Compute standard deviation of RMSEs\n",
    "# ---------------------------------------------\n",
    "std = np.std(rmse_scores)\n",
    "print(\"RMSE scores by seed:\", [round(s, 3) for s in rmse_scores])\n",
    "print(\"Standard deviation of RMSE:\", round(std, 3))"
   ]
  },
  {
   "cell_type": "markdown",
   "id": "88da4cd8-3b90-4f23-b4e8-8b14a2799d5d",
   "metadata": {},
   "source": [
    "Question 6\n",
    "Split the dataset like previously, use seed 9.\n",
    "Combine train and validation datasets.\n",
    "Fill the missing values with 0 and train a model with r=0.001.\n",
    "What's the RMSE on the test dataset?\n",
    "Options:\n",
    "\n",
    "0.15\n",
    "0.515\n",
    "5.15\n",
    "51.5"
   ]
  },
  {
   "cell_type": "code",
   "execution_count": 86,
   "id": "914ea21b-3da2-4c6f-9929-b481c3644497",
   "metadata": {},
   "outputs": [
    {
     "name": "stdout",
     "output_type": "stream",
     "text": [
      "Test RMSE: 0.516\n"
     ]
    }
   ],
   "source": [
    "# ---------------------------------------------\n",
    "# 3️⃣ Split dataset (seed=9)\n",
    "# ---------------------------------------------\n",
    "seed = 9\n",
    "df_shuffled = df.sample(frac=1, random_state=seed).reset_index(drop=True)\n",
    "\n",
    "n = len(df_shuffled)\n",
    "n_train = int(0.6 * n)\n",
    "n_val = int(0.2 * n)\n",
    "n_test = n - n_train - n_val\n",
    "\n",
    "df_train = df_shuffled.iloc[:n_train]\n",
    "df_val = df_shuffled.iloc[n_train:n_train + n_val]\n",
    "df_test = df_shuffled.iloc[n_train + n_val:]\n",
    "\n",
    "# ---------------------------------------------\n",
    "# 4️⃣ Combine train + val\n",
    "# ---------------------------------------------\n",
    "df_full_train = pd.concat([df_train, df_val])\n",
    "\n",
    "# ---------------------------------------------\n",
    "# 5️⃣ Prepare data\n",
    "# ---------------------------------------------\n",
    "X_full_train = prepare_X(df_full_train)\n",
    "y_full_train = df_full_train.fuel_efficiency_mpg.values\n",
    "\n",
    "X_test = prepare_X(df_test)\n",
    "y_test = df_test.fuel_efficiency_mpg.values\n",
    "\n",
    "# ---------------------------------------------\n",
    "# 6️⃣ Train model with regularization r=0.001\n",
    "# ---------------------------------------------\n",
    "w0, w = train_linear_regression_reg(X_full_train, y_full_train, r=0.001)\n",
    "\n",
    "# ---------------------------------------------\n",
    "# 7️⃣ Predict and evaluate\n",
    "# ---------------------------------------------\n",
    "y_pred = w0 + X_test.dot(w)\n",
    "score = rmse(y_test, y_pred)\n",
    "\n",
    "print(\"Test RMSE:\", round(score, 3))"
   ]
  },
  {
   "cell_type": "code",
   "execution_count": null,
   "id": "5996af36-3d94-44ac-ab53-708b522bfd28",
   "metadata": {},
   "outputs": [],
   "source": []
  }
 ],
 "metadata": {
  "kernelspec": {
   "display_name": "Python 3 (ipykernel)",
   "language": "python",
   "name": "python3"
  },
  "language_info": {
   "codemirror_mode": {
    "name": "ipython",
    "version": 3
   },
   "file_extension": ".py",
   "mimetype": "text/x-python",
   "name": "python",
   "nbconvert_exporter": "python",
   "pygments_lexer": "ipython3",
   "version": "3.12.1"
  }
 },
 "nbformat": 4,
 "nbformat_minor": 5
}
